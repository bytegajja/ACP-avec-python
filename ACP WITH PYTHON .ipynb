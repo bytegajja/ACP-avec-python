{
 "cells": [
  {
   "cell_type": "markdown",
   "id": "c4198b5b",
   "metadata": {},
   "source": [
    "# ACP AVEC PYTHON \n"
   ]
  },
  {
   "cell_type": "markdown",
   "id": "7cdf6b94",
   "metadata": {},
   "source": [
    "Ce projet consiste en une implémentation de l'Analyse en Composantes Principales (ACP) en Python. L'ACP est une technique de réduction de dimensionnalité qui permet de transformer un ensemble de variables corrélées en un ensemble de variables non corrélées appelées composantes principales. Cette implémentation fournit une interface simple et efficace pour effectuer une ACP sur des ensembles de données, ce qui permet d'analyser et de visualiser les relations entre les variables et de réduire la dimensionnalité des données tout en préservant au maximum l'information importante"
   ]
  },
  {
   "cell_type": "markdown",
   "id": "ac48db43",
   "metadata": {},
   "source": [
    "# Les etapes :\n",
    "1 Chargement des données : Chargez vos données dans un DataFrame pandas si elles sont stockées dans un fichier CSV, Excel ou une autre source de données.\n",
    "\n",
    "2 Standardisation des données : Il est généralement recommandé de standardiser vos données avant d'appliquer l'ACP pour que chaque variable ait une variance comparable. Vous pouvez utiliser StandardScaler de scikit-learn pour cela.\n",
    "\n",
    "3 Instanciation de l'objet PCA : Créez un objet PCA en utilisant la classe PCA de scikit-learn. Spécifiez le nombre de composantes principales que vous souhaitez conserver.\n",
    "\n",
    "4Ajustement du modèle : Ajustez l'objet PCA à vos données standardisées en utilisant la méthode fit().\n",
    "Transformation des données : Transformez vos données en utilisant la méthode transform() pour obtenir les composantes principales.\n",
    "\n",
    "5 Analyse des résultats : Analysez les composantes principales pour comprendre la variance expliquée par chaque composante, visualisez les données dans un espace de dimension réduite et identifiez les structures ou les tendances sous-jacentes."
   ]
  },
  {
   "cell_type": "code",
   "execution_count": null,
   "id": "af4beff3",
   "metadata": {},
   "outputs": [],
   "source": [
    "# comme premier etape est de telecharger data"
   ]
  },
  {
   "cell_type": "code",
   "execution_count": 4,
   "id": "8373ef42",
   "metadata": {},
   "outputs": [],
   "source": [
    "#importe\n",
    "import pandas as pd\n",
    "\n",
    "import sklearn"
   ]
  },
  {
   "cell_type": "code",
   "execution_count": 17,
   "id": "b3e076cd",
   "metadata": {},
   "outputs": [
    {
     "name": "stdout",
     "output_type": "stream",
     "text": [
      "            Modele   CYL  PUISS  LONG  LARG  POIDS  V.MAX\n",
      "0       Alfasud TI  1350     79   393   161    870    165\n",
      "1         Audi 100  1588     85   468   177   1110    160\n",
      "2       Simca 1300  1294     68   424   168   1050    152\n",
      "3  Citroen GS Club  1222     59   412   161    930    151\n",
      "4         Fiat 132  1585     98   439   164   1105    165\n"
     ]
    }
   ],
   "source": [
    "\n",
    "\n",
    "# Chemin vers le fichier CSV\n",
    "chemin_fichier_csv = 'autos-acp-diapos.csv'\n",
    "\n",
    "# Lire le fichier CSV dans un DataFrame\n",
    "df = pd.read_csv(chemin_fichier_csv)\n",
    "\n",
    "# Afficher les premières lignes du DataFrame il donne les sinque premier lignes \n",
    "print(df.head())\n"
   ]
  },
  {
   "cell_type": "markdown",
   "id": "ef6bfeea",
   "metadata": {},
   "source": []
  },
  {
   "cell_type": "code",
   "execution_count": 6,
   "id": "f85099c5",
   "metadata": {},
   "outputs": [
    {
     "name": "stdout",
     "output_type": "stream",
     "text": [
      "(18, 7)\n"
     ]
    }
   ],
   "source": [
    "print(df.shape)\n"
   ]
  },
  {
   "cell_type": "code",
   "execution_count": 7,
   "id": "93779489",
   "metadata": {},
   "outputs": [
    {
     "name": "stdout",
     "output_type": "stream",
     "text": [
      "             Modele   CYL  PUISS  LONG  LARG  POIDS  V.MAX\n",
      "0        Alfasud TI  1350     79   393   161    870    165\n",
      "1          Audi 100  1588     85   468   177   1110    160\n",
      "2        Simca 1300  1294     68   424   168   1050    152\n",
      "3   Citroen GS Club  1222     59   412   161    930    151\n",
      "4          Fiat 132  1585     98   439   164   1105    165\n",
      "5       Lancia Beta  1297     82   429   169   1080    160\n",
      "6       Peugeot 504  1796     79   449   169   1160    154\n",
      "7     Renault 16 TL  1565     55   424   163   1010    140\n",
      "8        Renault 30  2664    128   452   173   1320    180\n",
      "9    Toyota Corolla  1166     55   399   157    815    140\n",
      "10     Alfetta 1.66  1570    109   428   162   1060    175\n",
      "11    Princess 1800  1798     82   445   172   1160    158\n",
      "12      Datsun 200L  1998    115   469   169   1370    160\n",
      "13      Taunus 2000  1993     98   438   170   1080    167\n",
      "14           Rancho  1442     80   431   166   1129    144\n",
      "15       Mazda 9295  1769     83   440   165   1095    165\n",
      "16      Opel Rekord  1979    100   459   173   1120    173\n",
      "17        Lada 1300  1294     68   404   161    955    140\n"
     ]
    }
   ],
   "source": [
    "print(df)"
   ]
  },
  {
   "cell_type": "markdown",
   "id": "37f7537e",
   "metadata": {},
   "source": [
    "LES STATISTIQUE DESCRIPTIVE POUR MIEUX COMPENDRE  LA RELATION ENTRE LES COMMPODENTES "
   ]
  },
  {
   "cell_type": "code",
   "execution_count": 8,
   "id": "d9a8095b",
   "metadata": {},
   "outputs": [
    {
     "name": "stdout",
     "output_type": "stream",
     "text": [
      "Moyenne de chaque colonne (hors colonne 'Modele') :\n",
      "CYL      1631.666667\n",
      "PUISS      84.611111\n",
      "LONG      433.500000\n",
      "LARG      166.666667\n",
      "POIDS    1078.833333\n",
      "V.MAX     158.277778\n",
      "dtype: float64\n"
     ]
    }
   ],
   "source": [
    "# Exclure la colonne \"Modele\" du calcul de la moyenne\n",
    "moyennes_colonnes = df.drop(columns=['Modele']).mean()\n",
    "\n",
    "# Afficher les moyennes\n",
    "print(\"Moyenne de chaque colonne (hors colonne 'Modele') :\")\n",
    "print(moyennes_colonnes)"
   ]
  },
  {
   "cell_type": "code",
   "execution_count": 9,
   "id": "19b26b26",
   "metadata": {},
   "outputs": [
    {
     "name": "stdout",
     "output_type": "stream",
     "text": [
      "Matrice des valeurs numériques :\n",
      "[[1350   79  393  161  870  165]\n",
      " [1588   85  468  177 1110  160]\n",
      " [1294   68  424  168 1050  152]\n",
      " [1222   59  412  161  930  151]\n",
      " [1585   98  439  164 1105  165]\n",
      " [1297   82  429  169 1080  160]\n",
      " [1796   79  449  169 1160  154]\n",
      " [1565   55  424  163 1010  140]\n",
      " [2664  128  452  173 1320  180]\n",
      " [1166   55  399  157  815  140]\n",
      " [1570  109  428  162 1060  175]\n",
      " [1798   82  445  172 1160  158]\n",
      " [1998  115  469  169 1370  160]\n",
      " [1993   98  438  170 1080  167]\n",
      " [1442   80  431  166 1129  144]\n",
      " [1769   83  440  165 1095  165]\n",
      " [1979  100  459  173 1120  173]\n",
      " [1294   68  404  161  955  140]]\n"
     ]
    }
   ],
   "source": [
    "\n",
    "\n",
    "# Exclure la colonne 'Modele' (car elle contient des chaînes de caractères)\n",
    "matrice = df.drop(columns=['Modele']).values\n",
    "\n",
    "# Afficher la matrice\n",
    "print(\"Matrice des valeurs numériques :\")\n",
    "print(matrice)\n"
   ]
  },
  {
   "cell_type": "markdown",
   "id": "b0c064ca",
   "metadata": {},
   "source": [
    "Nous instancions l’objet et nous l’appliquons sur la matrice X. Nous obtenons une matrice Z\n",
    "𝑧𝑖𝑗 =la somme (𝑥𝑖𝑗 − 𝑥𝑗)/𝜎"
   ]
  },
  {
   "cell_type": "markdown",
   "id": "8828075e",
   "metadata": {},
   "source": [
    "# matrice z\n",
    "Ce code utilise la classe StandardScaler de la bibliothèque sklearn.preprocessing pour effectuer la standardisation des données. Voici ce que chaque ligne fait :\n",
    "\n",
    "Importation de la classe StandardScaler depuis le module sklearn.preprocessing.\n",
    "Instanciation d'un objet sc de la classe StandardScaler().\n",
    "Transformation des données X en effectuant le centrage et la réduction grâce à la méthode fit_transform() de l'objet sc. Les données standardisées sont stockées dans la variable Z.\n",
    "Affichage des données standardisées Z."
   ]
  },
  {
   "cell_type": "code",
   "execution_count": 10,
   "id": "cad7cb3e",
   "metadata": {},
   "outputs": [
    {
     "name": "stdout",
     "output_type": "stream",
     "text": [
      "[[-0.77509889 -0.28335818 -1.88508077 -1.09734528 -1.56900676  0.56976043]\n",
      " [-0.12016326  0.01963869  1.60580955  2.0010414   0.23416142  0.14597168]\n",
      " [-0.92920139 -0.83885242 -0.44217944  0.25819889 -0.21663062 -0.53209032]\n",
      " [-1.12733318 -1.29334771 -1.00072189 -1.09734528 -1.11821472 -0.61684807]\n",
      " [-0.12841875  0.67613189  0.25599862 -0.51639778  0.19659542  0.56976043]\n",
      " [-0.9209459  -0.13185975 -0.20945342  0.45184806  0.0087654   0.14597168]\n",
      " [ 0.45221746 -0.28335818  0.72145067  0.45184806  0.60982146 -0.36257482]\n",
      " [-0.18345536 -1.49534562 -0.44217944 -0.71004695 -0.51715865 -1.54918332]\n",
      " [ 2.84080623  2.19111619  0.86108628  1.22644473  1.81193359  1.84112668]\n",
      " [-1.28143568 -1.49534562 -1.60580955 -1.87194195 -1.98223281 -1.54918332]\n",
      " [-0.16969621  1.23162613 -0.25599862 -0.90369611 -0.14149861  1.41733793]\n",
      " [ 0.45772112 -0.13185975  0.53526985  1.03279556  0.60982146 -0.02354382]\n",
      " [ 1.0080872   1.53462299  1.65235475  0.45184806  2.18759363  0.14597168]\n",
      " [ 0.99432805  0.67613189  0.20945342  0.64549722  0.0087654   0.73927593]\n",
      " [-0.5219305  -0.2328587  -0.11636301 -0.12909944  0.37691224 -1.21015232]\n",
      " [ 0.37791804 -0.08136027  0.30254383 -0.32274861  0.12146341  0.56976043]\n",
      " [ 0.95580242  0.77713084  1.18690271  1.22644473  0.30929343  1.24782243]\n",
      " [-0.92920139 -0.83885242 -1.37308353 -1.09734528 -0.9303847  -1.54918332]]\n"
     ]
    }
   ],
   "source": [
    "x=matrice\n",
    "#classe pour standardisation\n",
    "from sklearn.preprocessing import StandardScaler\n",
    "#instanciation\n",
    "sc = StandardScaler()\n",
    "#transformation – centrage-réduction\n",
    "Z = sc.fit_transform(x)\n",
    "print(Z)"
   ]
  },
  {
   "cell_type": "markdown",
   "id": "03c5bf5c",
   "metadata": {},
   "source": [
    "# concepte_de_standardisation.\n",
    "\n",
    "La standardisation des données, également connue sous le nom de centrage-réduction, est un processus utilisé en statistiques et en apprentissage automatique pour mettre à l'échelle les données. L'objectif est de rendre les variables indépendantes de leur échelle d'origine, ce qui peut être nécessaire pour certains algorithmes d'apprentissage automatique ou pour faciliter l'interprétation des données.\n",
    "\n",
    "Voici comment la standardisation des données fonctionne généralement :\n",
    "\n",
    "Centrage : Pour chaque variable, la moyenne de toutes les observations est soustraite à chaque observation. Cela signifie que la nouvelle moyenne de la variable sera égale à zéro.\n",
    "Réduction : Ensuite, chaque valeur est divisée par l'écart type de la variable. Cela permet d'obtenir une variance de 1 pour chaque variable.\n",
    "En conséquence, après la standardisation, chaque variable a une moyenne de zéro et un écart type de un. Cela garantit que chaque variable contribue de manière égale à l'analyse ou à l'apprentissage automatique, indépendamment de ses unités d'origine.\n",
    "\n",
    "La standardisation est souvent utilisée avant l'application d'algorithmes d'apprentissage automatique qui supposent que les données sont centrées et ont une variance homogène, tels que les méthodes basées sur les distances (par exemple, k-moyennes, k plus proches voisins) ou les méthodes basées sur les gradients (par exemple, régression linéaire, régression logistique). Cela peut également aider à accélérer la convergence des algorithmes d'optimisation."
   ]
  },
  {
   "cell_type": "markdown",
   "id": "0061f57c",
   "metadata": {},
   "source": [
    "# calcul de la moiyen de z et ecartype  "
   ]
  },
  {
   "cell_type": "code",
   "execution_count": 15,
   "id": "a09a95eb",
   "metadata": {},
   "outputs": [
    {
     "name": "stdout",
     "output_type": "stream",
     "text": [
      "Moyenne de chaque colonne :\n",
      "[-2.22044605e-16 -1.41861831e-16  0.00000000e+00  1.86270752e-15\n",
      "  5.73615229e-16  5.55111512e-16]\n"
     ]
    }
   ],
   "source": [
    "import numpy as np\n",
    "\n",
    "# Calculer la moyenne de chaque colonne de la matrice Z\n",
    "moyenne_colonnes = np.mean(Z, axis=0)\n",
    "\n",
    "# Afficher la moyenne de chaque colonne\n",
    "print(\"Moyenne de chaque colonne :\")\n",
    "print(moyenne_colonnes)\n"
   ]
  },
  {
   "cell_type": "markdown",
   "id": "23836e84",
   "metadata": {},
   "source": [
    "# interpretation du resultats\n",
    "\n",
    "Il semble que les moyennes de chaque colonne de la matrice Z sont très proches de zéro, mais elles ne sont pas exactement zéro en raison de la précision des calculs informatiques. En effet, les valeurs affichées sont de l'ordre de \\(10^{-15}\\) ou \\(10^{-16}\\), ce qui est extrêmement proche de zéro.\n",
    "\n",
    "Dans ce cas, vous pouvez considérer que la standardisation a été effectuée avec succès. Les valeurs très proches de zéro indiquent que les données ont été centrées correctement autour de zéro, ce qui est l'objectif de la standardisation. La précision de \\(10^{-15}\\) ou \\(10^{-16}\\) est généralement bien en deçà de ce qui est nécessaire pour la plupart des applications, donc ces petites différences ne devraient pas poser de problème dans la plupart des cas.\n"
   ]
  },
  {
   "cell_type": "code",
   "execution_count": 18,
   "id": "bae00d8a",
   "metadata": {},
   "outputs": [
    {
     "name": "stdout",
     "output_type": "stream",
     "text": [
      "[1. 1. 1. 1. 1. 1.]\n"
     ]
    }
   ],
   "source": [
    "#écart-type\n",
    "print(np.std(Z,axis=0,ddof=0))"
   ]
  },
  {
   "cell_type": "markdown",
   "id": "e73df803",
   "metadata": {},
   "source": [
    "L'Analyse en Composantes Principales (PCA) est une technique couramment utilisée en apprentissage automatique et en statistiques pour la réduction de dimensionnalité et la visualisation des données. La bibliothèque scikit-learn offre une implémentation efficace de l'ACP via le module sklearn.decomposition.\n",
    "\n",
    "Voici quelques raisons pour lesquelles vous pourriez choisir d'utiliser PCA de scikit-learn :\n",
    "\n",
    "#Réduction de dimensionnalité : PCA vous permet de réduire le nombre de variables dans vos données en projetant celles-ci sur un espace de dimension inférieure, tout en conservant autant d'informations que possible. Cela peut être utile pour simplifier la modélisation tout en maintenant la plupart des informations importantes contenues dans les données originales.\n",
    "#Détection de structure : PCA identifie les structures et les tendances sous-jacentes dans vos données en extrayant les composantes principales qui capturent la variance maximale. Cela peut vous aider à mieux comprendre les relations entre les variables et les schémas cachés dans vos données.\n",
    "#Visualisation des données : En réduisant la dimensionnalité de vos données à deux ou trois dimensions, PCA permet une visualisation efficace des données dans un espace de plus basse dimension. Cela peut vous aider à identifier les clusters, les schémas et les anomalies dans vos données d'une manière plus intuitive.\n",
    "#Prétraitement des données : PCA peut également être utilisé comme une étape de prétraitement pour améliorer les performances des modèles d'apprentissage automatique. En réduisant la dimensionnalité et en éliminant la corrélation entre les variables, PCA peut souvent améliorer la convergence des algorithmes d'apprentissage et réduire les problèmes de surajustement.\n",
    "Compression de données : En comprimant vos données tout en conservant la plupart des informations importantes, PCA peut être utilisé pour économiser de l'espace de stockage et accélérer le temps de calcul dans le cas de grandes bases de données ou de données à haute dimensionnalité."
   ]
  },
  {
   "cell_type": "code",
   "execution_count": 20,
   "id": "810f62d2",
   "metadata": {},
   "outputs": [
    {
     "name": "stdout",
     "output_type": "stream",
     "text": [
      "PCA(svd_solver='full')\n"
     ]
    }
   ],
   "source": [
    "#classe pour l'ACP\n",
    "from sklearn.decomposition import PCA\n",
    "#instanciation\n",
    "acp = PCA(svd_solver='full')\n",
    "#affichage des paramètres\n",
    "print(acp)"
   ]
  },
  {
   "cell_type": "code",
   "execution_count": 21,
   "id": "050c1cd4",
   "metadata": {},
   "outputs": [
    {
     "name": "stdout",
     "output_type": "stream",
     "text": [
      "6\n",
      "[4.68090853 0.90641889 0.39501114 0.22650574 0.09826011 0.04583676]\n"
     ]
    }
   ],
   "source": [
    "# calcul\n",
    "coord = acp.fit_transform(Z)\n",
    "#nombre de composantes calculées\n",
    "print(acp.n_components_) \n",
    "print(acp.explained_variance_)"
   ]
  },
  {
   "cell_type": "code",
   "execution_count": 25,
   "id": "cf33b35b",
   "metadata": {},
   "outputs": [
    {
     "name": "stdout",
     "output_type": "stream",
     "text": [
      "[4.42085806 0.85606229 0.37306608 0.21392209 0.09280121 0.04329027]\n"
     ]
    }
   ],
   "source": [
    "# Calcul du nombre d'observations\n",
    "n = Z.shape[0]  # Nombre de lignes dans la matrice Z\n",
    "\n",
    "# Calcul des valeurs propres corrigées\n",
    "eigval = (n-1)/n * acp.explained_variance_\n",
    "print(eigval)\n"
   ]
  },
  {
   "cell_type": "code",
   "execution_count": 26,
   "id": "f54d49a2",
   "metadata": {},
   "outputs": [
    {
     "name": "stdout",
     "output_type": "stream",
     "text": [
      "[0.73680968 0.14267705 0.06217768 0.03565368 0.01546687 0.00721505]\n"
     ]
    }
   ],
   "source": [
    "#proportion de variance expliquée\n",
    "print(acp.explained_variance_ratio_)"
   ]
  },
  {
   "cell_type": "markdown",
   "id": "36c38e64",
   "metadata": {},
   "source": [
    "La ligne de code print(acp.explained_variance_ratio_) vous permet d'imprimer les proportions de variance expliquée par chaque composante principale. Ces proportions sont calculées en divisant chaque valeur propre par la somme totale des valeurs propres."
   ]
  },
  {
   "cell_type": "code",
   "execution_count": 34,
   "id": "a6f58eb1",
   "metadata": {},
   "outputs": [
    {
     "data": {
      "image/png": "[encoded data removed]",
      "text/plain": [
       "<Figure size 640x480 with 1 Axes>"
      ]
     },
     "metadata": {},
     "output_type": "display_data"
    }
   ],
   "source": [
    "import numpy as np\n",
    "import matplotlib.pyplot as plt\n",
    "\n",
    "# Définition du nombre de composantes principales\n",
    "p = len(eigval)\n",
    "\n",
    "# Tracer le scree plot\n",
    "plt.plot(np.arange(1, p+1), eigval)\n",
    "plt.title(\"Scree plot\")\n",
    "plt.ylabel(\"Eigen values\")\n",
    "plt.xlabel(\"Factor number\")\n",
    "plt.show()\n"
   ]
  },
  {
   "cell_type": "code",
   "execution_count": 37,
   "id": "77cdaeb7",
   "metadata": {},
   "outputs": [
    {
     "data": {
      "image/png": "[encoded data removed]",
      "text/plain": [
       "<Figure size 640x480 with 1 Axes>"
      ]
     },
     "metadata": {},
     "output_type": "display_data"
    }
   ],
   "source": [
    "#cumul de variance expliquée\n",
    "plt.plot(np.arange(1,p+1),np.cumsum(acp.explained_variance_ratio_))\n",
    "plt.title(\"Explained variance vs. # of factors\")\n",
    "plt.ylabel(\"Cumsum explained variance ratio\")\n",
    "plt.xlabel(\"Factor number\")\n",
    "plt.show()"
   ]
  },
  {
   "cell_type": "code",
   "execution_count": null,
   "id": "9043992f",
   "metadata": {},
   "outputs": [],
   "source": [
    "n"
   ]
  }
 ],
 "metadata": {
  "kernelspec": {
   "display_name": "Python 3 (ipykernel)",
   "language": "python",
   "name": "python3"
  },
  "language_info": {
   "codemirror_mode": {
    "name": "ipython",
    "version": 3
   },
   "file_extension": ".py",
   "mimetype": "text/x-python",
   "name": "python",
   "nbconvert_exporter": "python",
   "pygments_lexer": "ipython3",
   "version": "3.12.2"
  }
 },
 "nbformat": 4,
 "nbformat_minor": 5
}
