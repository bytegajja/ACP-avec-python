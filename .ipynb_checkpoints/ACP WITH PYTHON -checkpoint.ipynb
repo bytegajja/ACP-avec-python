{
 "cells": [
  {
   "cell_type": "markdown",
   "id": "c4198b5b",
   "metadata": {},
   "source": [
    "# ACP AVEC PYTHON \n"
   ]
  },
  {
   "cell_type": "markdown",
   "id": "7cdf6b94",
   "metadata": {},
   "source": [
    "Ce projet consiste en une implémentation de l'Analyse en Composantes Principales (ACP) en Python. L'ACP est une technique de réduction de dimensionnalité qui permet de transformer un ensemble de variables corrélées en un ensemble de variables non corrélées appelées composantes principales. Cette implémentation fournit une interface simple et efficace pour effectuer une ACP sur des ensembles de données, ce qui permet d'analyser et de visualiser les relations entre les variables et de réduire la dimensionnalité des données tout en préservant au maximum l'information importante"
   ]
  },
  {
   "cell_type": "code",
   "execution_count": null,
   "id": "af4beff3",
   "metadata": {},
   "outputs": [],
   "source": [
    "# comme premier etape est de telecharger data"
   ]
  },
  {
   "cell_type": "code",
   "execution_count": 4,
   "id": "8373ef42",
   "metadata": {},
   "outputs": [],
   "source": [
    "import pandas as pd\n",
    "\n",
    "import sklearn"
   ]
  },
  {
   "cell_type": "code",
   "execution_count": 5,
   "id": "b3e076cd",
   "metadata": {},
   "outputs": [
    {
     "name": "stdout",
     "output_type": "stream",
     "text": [
      "            Modele   CYL  PUISS  LONG  LARG  POIDS  V.MAX\n",
      "0       Alfasud TI  1350     79   393   161    870    165\n",
      "1         Audi 100  1588     85   468   177   1110    160\n",
      "2       Simca 1300  1294     68   424   168   1050    152\n",
      "3  Citroen GS Club  1222     59   412   161    930    151\n",
      "4         Fiat 132  1585     98   439   164   1105    165\n"
     ]
    }
   ],
   "source": [
    "\n",
    "\n",
    "# Chemin vers le fichier CSV\n",
    "chemin_fichier_csv = r'C:\\Users\\HP\\Desktop\\acp avec python\\autos-acp-diapos.csv'\n",
    "\n",
    "# Lire le fichier CSV dans un DataFrame\n",
    "df = pd.read_csv(chemin_fichier_csv)\n",
    "\n",
    "# Afficher les premières lignes du DataFrame il donne les sinque premier lignes \n",
    "print(df.head())\n"
   ]
  },
  {
   "cell_type": "code",
   "execution_count": 6,
   "id": "f85099c5",
   "metadata": {},
   "outputs": [
    {
     "name": "stdout",
     "output_type": "stream",
     "text": [
      "(18, 7)\n"
     ]
    }
   ],
   "source": [
    "print(df.shape)\n"
   ]
  },
  {
   "cell_type": "code",
   "execution_count": 7,
   "id": "93779489",
   "metadata": {},
   "outputs": [
    {
     "name": "stdout",
     "output_type": "stream",
     "text": [
      "             Modele   CYL  PUISS  LONG  LARG  POIDS  V.MAX\n",
      "0        Alfasud TI  1350     79   393   161    870    165\n",
      "1          Audi 100  1588     85   468   177   1110    160\n",
      "2        Simca 1300  1294     68   424   168   1050    152\n",
      "3   Citroen GS Club  1222     59   412   161    930    151\n",
      "4          Fiat 132  1585     98   439   164   1105    165\n",
      "5       Lancia Beta  1297     82   429   169   1080    160\n",
      "6       Peugeot 504  1796     79   449   169   1160    154\n",
      "7     Renault 16 TL  1565     55   424   163   1010    140\n",
      "8        Renault 30  2664    128   452   173   1320    180\n",
      "9    Toyota Corolla  1166     55   399   157    815    140\n",
      "10     Alfetta 1.66  1570    109   428   162   1060    175\n",
      "11    Princess 1800  1798     82   445   172   1160    158\n",
      "12      Datsun 200L  1998    115   469   169   1370    160\n",
      "13      Taunus 2000  1993     98   438   170   1080    167\n",
      "14           Rancho  1442     80   431   166   1129    144\n",
      "15       Mazda 9295  1769     83   440   165   1095    165\n",
      "16      Opel Rekord  1979    100   459   173   1120    173\n",
      "17        Lada 1300  1294     68   404   161    955    140\n"
     ]
    }
   ],
   "source": [
    "print(df)"
   ]
  },
  {
   "cell_type": "markdown",
   "id": "37f7537e",
   "metadata": {},
   "source": [
    "LES STATISTIQUE DESCRIPTIVE POUR MIEUX COMPENDRE  LA RELATION ENTRE LES COMMPODENTES "
   ]
  },
  {
   "cell_type": "code",
   "execution_count": 8,
   "id": "d9a8095b",
   "metadata": {},
   "outputs": [
    {
     "name": "stdout",
     "output_type": "stream",
     "text": [
      "Moyenne de chaque colonne (hors colonne 'Modele') :\n",
      "CYL      1631.666667\n",
      "PUISS      84.611111\n",
      "LONG      433.500000\n",
      "LARG      166.666667\n",
      "POIDS    1078.833333\n",
      "V.MAX     158.277778\n",
      "dtype: float64\n"
     ]
    }
   ],
   "source": [
    "# Exclure la colonne \"Modele\" du calcul de la moyenne\n",
    "moyennes_colonnes = df.drop(columns=['Modele']).mean()\n",
    "\n",
    "# Afficher les moyennes\n",
    "print(\"Moyenne de chaque colonne (hors colonne 'Modele') :\")\n",
    "print(moyennes_colonnes)"
   ]
  },
  {
   "cell_type": "code",
   "execution_count": 9,
   "id": "19b26b26",
   "metadata": {},
   "outputs": [
    {
     "name": "stdout",
     "output_type": "stream",
     "text": [
      "Matrice des valeurs numériques :\n",
      "[[1350   79  393  161  870  165]\n",
      " [1588   85  468  177 1110  160]\n",
      " [1294   68  424  168 1050  152]\n",
      " [1222   59  412  161  930  151]\n",
      " [1585   98  439  164 1105  165]\n",
      " [1297   82  429  169 1080  160]\n",
      " [1796   79  449  169 1160  154]\n",
      " [1565   55  424  163 1010  140]\n",
      " [2664  128  452  173 1320  180]\n",
      " [1166   55  399  157  815  140]\n",
      " [1570  109  428  162 1060  175]\n",
      " [1798   82  445  172 1160  158]\n",
      " [1998  115  469  169 1370  160]\n",
      " [1993   98  438  170 1080  167]\n",
      " [1442   80  431  166 1129  144]\n",
      " [1769   83  440  165 1095  165]\n",
      " [1979  100  459  173 1120  173]\n",
      " [1294   68  404  161  955  140]]\n"
     ]
    }
   ],
   "source": [
    "\n",
    "\n",
    "# Exclure la colonne 'Modele' (car elle contient des chaînes de caractères)\n",
    "matrice = df.drop(columns=['Modele']).values\n",
    "\n",
    "# Afficher la matrice\n",
    "print(\"Matrice des valeurs numériques :\")\n",
    "print(matrice)\n"
   ]
  },
  {
   "cell_type": "markdown",
   "id": "18709284",
   "metadata": {},
   "source": [
    "Nous instancions l’objet et nous l’appliquons sur la matrice X. Nous obtenons une matrice Z\n",
    "𝑧𝑖𝑗 =la somme (𝑥𝑖𝑗 − 𝑥𝑗)/𝜎"
   ]
  },
  {
   "cell_type": "markdown",
   "id": "bdc14218",
   "metadata": {},
   "source": [
    "# matrice z\n",
    "Ce code utilise la classe StandardScaler de la bibliothèque sklearn.preprocessing pour effectuer la standardisation des données. Voici ce que chaque ligne fait :\n",
    "\n",
    "Importation de la classe StandardScaler depuis le module sklearn.preprocessing.\n",
    "Instanciation d'un objet sc de la classe StandardScaler().\n",
    "Transformation des données X en effectuant le centrage et la réduction grâce à la méthode fit_transform() de l'objet sc. Les données standardisées sont stockées dans la variable Z.\n",
    "Affichage des données standardisées Z."
   ]
  },
  {
   "cell_type": "code",
   "execution_count": 10,
   "id": "dd622bec",
   "metadata": {},
   "outputs": [
    {
     "name": "stdout",
     "output_type": "stream",
     "text": [
      "[[-0.77509889 -0.28335818 -1.88508077 -1.09734528 -1.56900676  0.56976043]\n",
      " [-0.12016326  0.01963869  1.60580955  2.0010414   0.23416142  0.14597168]\n",
      " [-0.92920139 -0.83885242 -0.44217944  0.25819889 -0.21663062 -0.53209032]\n",
      " [-1.12733318 -1.29334771 -1.00072189 -1.09734528 -1.11821472 -0.61684807]\n",
      " [-0.12841875  0.67613189  0.25599862 -0.51639778  0.19659542  0.56976043]\n",
      " [-0.9209459  -0.13185975 -0.20945342  0.45184806  0.0087654   0.14597168]\n",
      " [ 0.45221746 -0.28335818  0.72145067  0.45184806  0.60982146 -0.36257482]\n",
      " [-0.18345536 -1.49534562 -0.44217944 -0.71004695 -0.51715865 -1.54918332]\n",
      " [ 2.84080623  2.19111619  0.86108628  1.22644473  1.81193359  1.84112668]\n",
      " [-1.28143568 -1.49534562 -1.60580955 -1.87194195 -1.98223281 -1.54918332]\n",
      " [-0.16969621  1.23162613 -0.25599862 -0.90369611 -0.14149861  1.41733793]\n",
      " [ 0.45772112 -0.13185975  0.53526985  1.03279556  0.60982146 -0.02354382]\n",
      " [ 1.0080872   1.53462299  1.65235475  0.45184806  2.18759363  0.14597168]\n",
      " [ 0.99432805  0.67613189  0.20945342  0.64549722  0.0087654   0.73927593]\n",
      " [-0.5219305  -0.2328587  -0.11636301 -0.12909944  0.37691224 -1.21015232]\n",
      " [ 0.37791804 -0.08136027  0.30254383 -0.32274861  0.12146341  0.56976043]\n",
      " [ 0.95580242  0.77713084  1.18690271  1.22644473  0.30929343  1.24782243]\n",
      " [-0.92920139 -0.83885242 -1.37308353 -1.09734528 -0.9303847  -1.54918332]]\n"
     ]
    }
   ],
   "source": [
    "x=matrice\n",
    "#classe pour standardisation\n",
    "from sklearn.preprocessing import StandardScaler\n",
    "#instanciation\n",
    "sc = StandardScaler()\n",
    "#transformation – centrage-réduction\n",
    "Z = sc.fit_transform(x)\n",
    "print(Z)"
   ]
  },
  {
   "cell_type": "code",
   "execution_count": null,
   "id": "9289958d",
   "metadata": {},
   "outputs": [],
   "source": []
  }
 ],
 "metadata": {
  "kernelspec": {
   "display_name": "Python 3 (ipykernel)",
   "language": "python",
   "name": "python3"
  },
  "language_info": {
   "codemirror_mode": {
    "name": "ipython",
    "version": 3
   },
   "file_extension": ".py",
   "mimetype": "text/x-python",
   "name": "python",
   "nbconvert_exporter": "python",
   "pygments_lexer": "ipython3",
   "version": "3.11.5"
  }
 },
 "nbformat": 4,
 "nbformat_minor": 5
}
