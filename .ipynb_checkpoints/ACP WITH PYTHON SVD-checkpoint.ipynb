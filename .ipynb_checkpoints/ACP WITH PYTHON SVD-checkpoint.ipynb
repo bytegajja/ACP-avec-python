{
 "cells": [
  {
   "cell_type": "markdown",
   "id": "32c3dfdf-f9a5-4410-90e7-b908bdfb1cc7",
   "metadata": {},
   "source": [
    "# "
   ]
  },
  {
   "cell_type": "markdown",
   "id": "a8577f78-15f4-4b7c-be91-8aad450acc57",
   "metadata": {},
   "source": [
    "## I- Installation des bib"
   ]
  },
  {
   "cell_type": "code",
   "execution_count": 43,
   "id": "3181c60d-63fd-418b-ae84-faed0c6d9083",
   "metadata": {},
   "outputs": [
    {
     "name": "stdout",
     "output_type": "stream",
     "text": [
      "Requirement already satisfied: numpy in c:\\users\\bydevmar\\appdata\\local\\programs\\python\\python312\\lib\\site-packages (1.26.4)\n",
      "Requirement already satisfied: pandas in c:\\users\\bydevmar\\appdata\\local\\programs\\python\\python312\\lib\\site-packages (2.2.2)\n",
      "Requirement already satisfied: numpy>=1.26.0 in c:\\users\\bydevmar\\appdata\\local\\programs\\python\\python312\\lib\\site-packages (from pandas) (1.26.4)\n",
      "Requirement already satisfied: python-dateutil>=2.8.2 in c:\\users\\bydevmar\\appdata\\local\\programs\\python\\python312\\lib\\site-packages (from pandas) (2.9.0.post0)\n",
      "Requirement already satisfied: pytz>=2020.1 in c:\\users\\bydevmar\\appdata\\local\\programs\\python\\python312\\lib\\site-packages (from pandas) (2024.1)\n",
      "Requirement already satisfied: tzdata>=2022.7 in c:\\users\\bydevmar\\appdata\\local\\programs\\python\\python312\\lib\\site-packages (from pandas) (2024.1)\n",
      "Requirement already satisfied: six>=1.5 in c:\\users\\bydevmar\\appdata\\local\\programs\\python\\python312\\lib\\site-packages (from python-dateutil>=2.8.2->pandas) (1.16.0)\n",
      "Requirement already satisfied: scipy in c:\\users\\bydevmar\\appdata\\local\\programs\\python\\python312\\lib\\site-packages (1.13.0)\n",
      "Requirement already satisfied: numpy<2.3,>=1.22.4 in c:\\users\\bydevmar\\appdata\\local\\programs\\python\\python312\\lib\\site-packages (from scipy) (1.26.4)\n",
      "Requirement already satisfied: matplotlib in c:\\users\\bydevmar\\appdata\\local\\programs\\python\\python312\\lib\\site-packages (3.8.4)\n",
      "Requirement already satisfied: contourpy>=1.0.1 in c:\\users\\bydevmar\\appdata\\local\\programs\\python\\python312\\lib\\site-packages (from matplotlib) (1.2.1)\n",
      "Requirement already satisfied: cycler>=0.10 in c:\\users\\bydevmar\\appdata\\local\\programs\\python\\python312\\lib\\site-packages (from matplotlib) (0.12.1)\n",
      "Requirement already satisfied: fonttools>=4.22.0 in c:\\users\\bydevmar\\appdata\\local\\programs\\python\\python312\\lib\\site-packages (from matplotlib) (4.51.0)\n",
      "Requirement already satisfied: kiwisolver>=1.3.1 in c:\\users\\bydevmar\\appdata\\local\\programs\\python\\python312\\lib\\site-packages (from matplotlib) (1.4.5)\n",
      "Requirement already satisfied: numpy>=1.21 in c:\\users\\bydevmar\\appdata\\local\\programs\\python\\python312\\lib\\site-packages (from matplotlib) (1.26.4)\n",
      "Requirement already satisfied: packaging>=20.0 in c:\\users\\bydevmar\\appdata\\local\\programs\\python\\python312\\lib\\site-packages (from matplotlib) (24.0)\n",
      "Requirement already satisfied: pillow>=8 in c:\\users\\bydevmar\\appdata\\local\\programs\\python\\python312\\lib\\site-packages (from matplotlib) (10.3.0)\n",
      "Requirement already satisfied: pyparsing>=2.3.1 in c:\\users\\bydevmar\\appdata\\local\\programs\\python\\python312\\lib\\site-packages (from matplotlib) (3.1.2)\n",
      "Requirement already satisfied: python-dateutil>=2.7 in c:\\users\\bydevmar\\appdata\\local\\programs\\python\\python312\\lib\\site-packages (from matplotlib) (2.9.0.post0)\n",
      "Requirement already satisfied: six>=1.5 in c:\\users\\bydevmar\\appdata\\local\\programs\\python\\python312\\lib\\site-packages (from python-dateutil>=2.7->matplotlib) (1.16.0)\n"
     ]
    }
   ],
   "source": [
    "!pip install numpy\n",
    "!pip install pandas\n",
    "!pip install scipy\n",
    "!pip install matplotlib"
   ]
  },
  {
   "cell_type": "markdown",
   "id": "b1c0eeba-8304-4395-a9b0-19a0977c878a",
   "metadata": {},
   "source": [
    "## II- Importation de bib"
   ]
  },
  {
   "cell_type": "code",
   "execution_count": 45,
   "id": "06f5f9bf-7411-4fd0-9d24-9402b206bbbd",
   "metadata": {},
   "outputs": [],
   "source": [
    "import numpy as np\n",
    "import pandas as pd\n",
    "import scipy\n",
    "import matplotlib.pyplot as plt"
   ]
  },
  {
   "cell_type": "markdown",
   "id": "9a9aae67-e256-494c-912a-382dcdcb41e8",
   "metadata": {},
   "source": [
    "## III- Importation des donnees"
   ]
  },
  {
   "cell_type": "code",
   "execution_count": 7,
   "id": "ea0754ed-49d4-4334-a204-708f3cf5cf8e",
   "metadata": {},
   "outputs": [],
   "source": [
    "df = pd.read_csv(\"autos-acp-diapos.csv\")"
   ]
  },
  {
   "cell_type": "markdown",
   "id": "c6aca57a-3df8-48b9-9943-f8f840259a4a",
   "metadata": {},
   "source": [
    "## IV- Prétraiter les données:"
   ]
  },
  {
   "cell_type": "markdown",
   "id": "aa3add26-2f50-4d34-9f4c-2b97d8d24f7d",
   "metadata": {
    "jp-MarkdownHeadingCollapsed": true
   },
   "source": [
    "### 1- Calculer la moyenne de chaque variable"
   ]
  },
  {
   "cell_type": "code",
   "execution_count": 10,
   "id": "2bb4b29c-26fa-4da3-a23b-632fd2da2b08",
   "metadata": {},
   "outputs": [
    {
     "data": {
      "text/plain": [
       "CYL      1631.666667\n",
       "PUISS      84.611111\n",
       "LONG      433.500000\n",
       "LARG      166.666667\n",
       "POIDS    1078.833333\n",
       "V.MAX     158.277778\n",
       "dtype: float64"
      ]
     },
     "execution_count": 10,
     "metadata": {},
     "output_type": "execute_result"
    }
   ],
   "source": [
    "means = df.drop(columns=[\"Modele\"]).mean()\n",
    "means"
   ]
  },
  {
   "cell_type": "markdown",
   "id": "6e01fe84-41ae-4333-9d70-803cd278355f",
   "metadata": {},
   "source": [
    "### 2- Soustraire la moyenne de chaque variable pour centrer les données"
   ]
  },
  {
   "cell_type": "code",
   "execution_count": 12,
   "id": "dc3f3332-b984-4f33-920c-4f0d27714b4f",
   "metadata": {},
   "outputs": [
    {
     "data": {
      "text/html": [
       "<div>\n",
       "<style scoped>\n",
       "    .dataframe tbody tr th:only-of-type {\n",
       "        vertical-align: middle;\n",
       "    }\n",
       "\n",
       "    .dataframe tbody tr th {\n",
       "        vertical-align: top;\n",
       "    }\n",
       "\n",
       "    .dataframe thead th {\n",
       "        text-align: right;\n",
       "    }\n",
       "</style>\n",
       "<table border=\"1\" class=\"dataframe\">\n",
       "  <thead>\n",
       "    <tr style=\"text-align: right;\">\n",
       "      <th></th>\n",
       "      <th>CYL</th>\n",
       "      <th>PUISS</th>\n",
       "      <th>LONG</th>\n",
       "      <th>LARG</th>\n",
       "      <th>POIDS</th>\n",
       "      <th>V.MAX</th>\n",
       "    </tr>\n",
       "  </thead>\n",
       "  <tbody>\n",
       "    <tr>\n",
       "      <th>0</th>\n",
       "      <td>-281.666667</td>\n",
       "      <td>-5.611111</td>\n",
       "      <td>-40.5</td>\n",
       "      <td>-5.666667</td>\n",
       "      <td>-208.833333</td>\n",
       "      <td>6.722222</td>\n",
       "    </tr>\n",
       "    <tr>\n",
       "      <th>1</th>\n",
       "      <td>-43.666667</td>\n",
       "      <td>0.388889</td>\n",
       "      <td>34.5</td>\n",
       "      <td>10.333333</td>\n",
       "      <td>31.166667</td>\n",
       "      <td>1.722222</td>\n",
       "    </tr>\n",
       "    <tr>\n",
       "      <th>2</th>\n",
       "      <td>-337.666667</td>\n",
       "      <td>-16.611111</td>\n",
       "      <td>-9.5</td>\n",
       "      <td>1.333333</td>\n",
       "      <td>-28.833333</td>\n",
       "      <td>-6.277778</td>\n",
       "    </tr>\n",
       "    <tr>\n",
       "      <th>3</th>\n",
       "      <td>-409.666667</td>\n",
       "      <td>-25.611111</td>\n",
       "      <td>-21.5</td>\n",
       "      <td>-5.666667</td>\n",
       "      <td>-148.833333</td>\n",
       "      <td>-7.277778</td>\n",
       "    </tr>\n",
       "    <tr>\n",
       "      <th>4</th>\n",
       "      <td>-46.666667</td>\n",
       "      <td>13.388889</td>\n",
       "      <td>5.5</td>\n",
       "      <td>-2.666667</td>\n",
       "      <td>26.166667</td>\n",
       "      <td>6.722222</td>\n",
       "    </tr>\n",
       "    <tr>\n",
       "      <th>5</th>\n",
       "      <td>-334.666667</td>\n",
       "      <td>-2.611111</td>\n",
       "      <td>-4.5</td>\n",
       "      <td>2.333333</td>\n",
       "      <td>1.166667</td>\n",
       "      <td>1.722222</td>\n",
       "    </tr>\n",
       "    <tr>\n",
       "      <th>6</th>\n",
       "      <td>164.333333</td>\n",
       "      <td>-5.611111</td>\n",
       "      <td>15.5</td>\n",
       "      <td>2.333333</td>\n",
       "      <td>81.166667</td>\n",
       "      <td>-4.277778</td>\n",
       "    </tr>\n",
       "    <tr>\n",
       "      <th>7</th>\n",
       "      <td>-66.666667</td>\n",
       "      <td>-29.611111</td>\n",
       "      <td>-9.5</td>\n",
       "      <td>-3.666667</td>\n",
       "      <td>-68.833333</td>\n",
       "      <td>-18.277778</td>\n",
       "    </tr>\n",
       "    <tr>\n",
       "      <th>8</th>\n",
       "      <td>1032.333333</td>\n",
       "      <td>43.388889</td>\n",
       "      <td>18.5</td>\n",
       "      <td>6.333333</td>\n",
       "      <td>241.166667</td>\n",
       "      <td>21.722222</td>\n",
       "    </tr>\n",
       "    <tr>\n",
       "      <th>9</th>\n",
       "      <td>-465.666667</td>\n",
       "      <td>-29.611111</td>\n",
       "      <td>-34.5</td>\n",
       "      <td>-9.666667</td>\n",
       "      <td>-263.833333</td>\n",
       "      <td>-18.277778</td>\n",
       "    </tr>\n",
       "    <tr>\n",
       "      <th>10</th>\n",
       "      <td>-61.666667</td>\n",
       "      <td>24.388889</td>\n",
       "      <td>-5.5</td>\n",
       "      <td>-4.666667</td>\n",
       "      <td>-18.833333</td>\n",
       "      <td>16.722222</td>\n",
       "    </tr>\n",
       "    <tr>\n",
       "      <th>11</th>\n",
       "      <td>166.333333</td>\n",
       "      <td>-2.611111</td>\n",
       "      <td>11.5</td>\n",
       "      <td>5.333333</td>\n",
       "      <td>81.166667</td>\n",
       "      <td>-0.277778</td>\n",
       "    </tr>\n",
       "    <tr>\n",
       "      <th>12</th>\n",
       "      <td>366.333333</td>\n",
       "      <td>30.388889</td>\n",
       "      <td>35.5</td>\n",
       "      <td>2.333333</td>\n",
       "      <td>291.166667</td>\n",
       "      <td>1.722222</td>\n",
       "    </tr>\n",
       "    <tr>\n",
       "      <th>13</th>\n",
       "      <td>361.333333</td>\n",
       "      <td>13.388889</td>\n",
       "      <td>4.5</td>\n",
       "      <td>3.333333</td>\n",
       "      <td>1.166667</td>\n",
       "      <td>8.722222</td>\n",
       "    </tr>\n",
       "    <tr>\n",
       "      <th>14</th>\n",
       "      <td>-189.666667</td>\n",
       "      <td>-4.611111</td>\n",
       "      <td>-2.5</td>\n",
       "      <td>-0.666667</td>\n",
       "      <td>50.166667</td>\n",
       "      <td>-14.277778</td>\n",
       "    </tr>\n",
       "    <tr>\n",
       "      <th>15</th>\n",
       "      <td>137.333333</td>\n",
       "      <td>-1.611111</td>\n",
       "      <td>6.5</td>\n",
       "      <td>-1.666667</td>\n",
       "      <td>16.166667</td>\n",
       "      <td>6.722222</td>\n",
       "    </tr>\n",
       "    <tr>\n",
       "      <th>16</th>\n",
       "      <td>347.333333</td>\n",
       "      <td>15.388889</td>\n",
       "      <td>25.5</td>\n",
       "      <td>6.333333</td>\n",
       "      <td>41.166667</td>\n",
       "      <td>14.722222</td>\n",
       "    </tr>\n",
       "    <tr>\n",
       "      <th>17</th>\n",
       "      <td>-337.666667</td>\n",
       "      <td>-16.611111</td>\n",
       "      <td>-29.5</td>\n",
       "      <td>-5.666667</td>\n",
       "      <td>-123.833333</td>\n",
       "      <td>-18.277778</td>\n",
       "    </tr>\n",
       "  </tbody>\n",
       "</table>\n",
       "</div>"
      ],
      "text/plain": [
       "            CYL      PUISS  LONG       LARG       POIDS      V.MAX\n",
       "0   -281.666667  -5.611111 -40.5  -5.666667 -208.833333   6.722222\n",
       "1    -43.666667   0.388889  34.5  10.333333   31.166667   1.722222\n",
       "2   -337.666667 -16.611111  -9.5   1.333333  -28.833333  -6.277778\n",
       "3   -409.666667 -25.611111 -21.5  -5.666667 -148.833333  -7.277778\n",
       "4    -46.666667  13.388889   5.5  -2.666667   26.166667   6.722222\n",
       "5   -334.666667  -2.611111  -4.5   2.333333    1.166667   1.722222\n",
       "6    164.333333  -5.611111  15.5   2.333333   81.166667  -4.277778\n",
       "7    -66.666667 -29.611111  -9.5  -3.666667  -68.833333 -18.277778\n",
       "8   1032.333333  43.388889  18.5   6.333333  241.166667  21.722222\n",
       "9   -465.666667 -29.611111 -34.5  -9.666667 -263.833333 -18.277778\n",
       "10   -61.666667  24.388889  -5.5  -4.666667  -18.833333  16.722222\n",
       "11   166.333333  -2.611111  11.5   5.333333   81.166667  -0.277778\n",
       "12   366.333333  30.388889  35.5   2.333333  291.166667   1.722222\n",
       "13   361.333333  13.388889   4.5   3.333333    1.166667   8.722222\n",
       "14  -189.666667  -4.611111  -2.5  -0.666667   50.166667 -14.277778\n",
       "15   137.333333  -1.611111   6.5  -1.666667   16.166667   6.722222\n",
       "16   347.333333  15.388889  25.5   6.333333   41.166667  14.722222\n",
       "17  -337.666667 -16.611111 -29.5  -5.666667 -123.833333 -18.277778"
      ]
     },
     "execution_count": 12,
     "metadata": {},
     "output_type": "execute_result"
    }
   ],
   "source": [
    "centered_data = df.drop(columns=[\"Modele\"]) - means\n",
    "centered_data"
   ]
  },
  {
   "cell_type": "markdown",
   "id": "0976ed51-0272-4e31-9088-f7a77661c0bc",
   "metadata": {},
   "source": [
    "### 3- Calculer l'écart-type de chaque variable"
   ]
  },
  {
   "cell_type": "code",
   "execution_count": 13,
   "id": "b3f493ec-1e37-496c-9337-2a32345c436d",
   "metadata": {},
   "outputs": [
    {
     "data": {
      "text/plain": [
       "CYL      373.929846\n",
       "PUISS     20.376281\n",
       "LONG      22.107358\n",
       "LARG       5.313689\n",
       "POIDS    136.957808\n",
       "V.MAX     12.140383\n",
       "dtype: float64"
      ]
     },
     "execution_count": 13,
     "metadata": {},
     "output_type": "execute_result"
    }
   ],
   "source": [
    "std_devs = df.drop(columns=[\"Modele\"]).std()\n",
    "std_devs"
   ]
  },
  {
   "cell_type": "markdown",
   "id": "3cdefb17-3cac-409e-97d8-48c7945fd66f",
   "metadata": {},
   "source": [
    "### 4- Diviser chaque variable par son écart-type pour réduire les données"
   ]
  },
  {
   "cell_type": "code",
   "execution_count": 15,
   "id": "fa340787-be5b-49f3-9d1b-03e701a7a0ba",
   "metadata": {},
   "outputs": [
    {
     "data": {
      "text/html": [
       "<div>\n",
       "<style scoped>\n",
       "    .dataframe tbody tr th:only-of-type {\n",
       "        vertical-align: middle;\n",
       "    }\n",
       "\n",
       "    .dataframe tbody tr th {\n",
       "        vertical-align: top;\n",
       "    }\n",
       "\n",
       "    .dataframe thead th {\n",
       "        text-align: right;\n",
       "    }\n",
       "</style>\n",
       "<table border=\"1\" class=\"dataframe\">\n",
       "  <thead>\n",
       "    <tr style=\"text-align: right;\">\n",
       "      <th></th>\n",
       "      <th>CYL</th>\n",
       "      <th>PUISS</th>\n",
       "      <th>LONG</th>\n",
       "      <th>LARG</th>\n",
       "      <th>POIDS</th>\n",
       "      <th>V.MAX</th>\n",
       "    </tr>\n",
       "  </thead>\n",
       "  <tbody>\n",
       "    <tr>\n",
       "      <th>0</th>\n",
       "      <td>-0.753261</td>\n",
       "      <td>-0.275375</td>\n",
       "      <td>-1.831969</td>\n",
       "      <td>-1.066428</td>\n",
       "      <td>-1.524800</td>\n",
       "      <td>0.553708</td>\n",
       "    </tr>\n",
       "    <tr>\n",
       "      <th>1</th>\n",
       "      <td>-0.116778</td>\n",
       "      <td>0.019085</td>\n",
       "      <td>1.560566</td>\n",
       "      <td>1.944663</td>\n",
       "      <td>0.227564</td>\n",
       "      <td>0.141859</td>\n",
       "    </tr>\n",
       "    <tr>\n",
       "      <th>2</th>\n",
       "      <td>-0.903021</td>\n",
       "      <td>-0.815218</td>\n",
       "      <td>-0.429721</td>\n",
       "      <td>0.250924</td>\n",
       "      <td>-0.210527</td>\n",
       "      <td>-0.517099</td>\n",
       "    </tr>\n",
       "    <tr>\n",
       "      <th>3</th>\n",
       "      <td>-1.095571</td>\n",
       "      <td>-1.256908</td>\n",
       "      <td>-0.972527</td>\n",
       "      <td>-1.066428</td>\n",
       "      <td>-1.086709</td>\n",
       "      <td>-0.599469</td>\n",
       "    </tr>\n",
       "    <tr>\n",
       "      <th>4</th>\n",
       "      <td>-0.124801</td>\n",
       "      <td>0.657082</td>\n",
       "      <td>0.248786</td>\n",
       "      <td>-0.501848</td>\n",
       "      <td>0.191056</td>\n",
       "      <td>0.553708</td>\n",
       "    </tr>\n",
       "    <tr>\n",
       "      <th>5</th>\n",
       "      <td>-0.894999</td>\n",
       "      <td>-0.128145</td>\n",
       "      <td>-0.203552</td>\n",
       "      <td>0.439117</td>\n",
       "      <td>0.008518</td>\n",
       "      <td>0.141859</td>\n",
       "    </tr>\n",
       "    <tr>\n",
       "      <th>6</th>\n",
       "      <td>0.439476</td>\n",
       "      <td>-0.275375</td>\n",
       "      <td>0.701124</td>\n",
       "      <td>0.439117</td>\n",
       "      <td>0.592640</td>\n",
       "      <td>-0.352359</td>\n",
       "    </tr>\n",
       "    <tr>\n",
       "      <th>7</th>\n",
       "      <td>-0.178287</td>\n",
       "      <td>-1.453215</td>\n",
       "      <td>-0.429721</td>\n",
       "      <td>-0.690042</td>\n",
       "      <td>-0.502588</td>\n",
       "      <td>-1.505536</td>\n",
       "    </tr>\n",
       "    <tr>\n",
       "      <th>8</th>\n",
       "      <td>2.760767</td>\n",
       "      <td>2.129382</td>\n",
       "      <td>0.836825</td>\n",
       "      <td>1.191890</td>\n",
       "      <td>1.760883</td>\n",
       "      <td>1.789254</td>\n",
       "    </tr>\n",
       "    <tr>\n",
       "      <th>9</th>\n",
       "      <td>-1.245332</td>\n",
       "      <td>-1.453215</td>\n",
       "      <td>-1.560566</td>\n",
       "      <td>-1.819201</td>\n",
       "      <td>-1.926384</td>\n",
       "      <td>-1.505536</td>\n",
       "    </tr>\n",
       "    <tr>\n",
       "      <th>10</th>\n",
       "      <td>-0.164915</td>\n",
       "      <td>1.196925</td>\n",
       "      <td>-0.248786</td>\n",
       "      <td>-0.878235</td>\n",
       "      <td>-0.137512</td>\n",
       "      <td>1.377405</td>\n",
       "    </tr>\n",
       "    <tr>\n",
       "      <th>11</th>\n",
       "      <td>0.444825</td>\n",
       "      <td>-0.128145</td>\n",
       "      <td>0.520189</td>\n",
       "      <td>1.003697</td>\n",
       "      <td>0.592640</td>\n",
       "      <td>-0.022880</td>\n",
       "    </tr>\n",
       "    <tr>\n",
       "      <th>12</th>\n",
       "      <td>0.979685</td>\n",
       "      <td>1.491385</td>\n",
       "      <td>1.605800</td>\n",
       "      <td>0.439117</td>\n",
       "      <td>2.125959</td>\n",
       "      <td>0.141859</td>\n",
       "    </tr>\n",
       "    <tr>\n",
       "      <th>13</th>\n",
       "      <td>0.966313</td>\n",
       "      <td>0.657082</td>\n",
       "      <td>0.203552</td>\n",
       "      <td>0.627311</td>\n",
       "      <td>0.008518</td>\n",
       "      <td>0.718447</td>\n",
       "    </tr>\n",
       "    <tr>\n",
       "      <th>14</th>\n",
       "      <td>-0.507225</td>\n",
       "      <td>-0.226298</td>\n",
       "      <td>-0.113085</td>\n",
       "      <td>-0.125462</td>\n",
       "      <td>0.366293</td>\n",
       "      <td>-1.176057</td>\n",
       "    </tr>\n",
       "    <tr>\n",
       "      <th>15</th>\n",
       "      <td>0.367270</td>\n",
       "      <td>-0.079068</td>\n",
       "      <td>0.294020</td>\n",
       "      <td>-0.313655</td>\n",
       "      <td>0.118041</td>\n",
       "      <td>0.553708</td>\n",
       "    </tr>\n",
       "    <tr>\n",
       "      <th>16</th>\n",
       "      <td>0.928873</td>\n",
       "      <td>0.755235</td>\n",
       "      <td>1.153462</td>\n",
       "      <td>1.191890</td>\n",
       "      <td>0.300579</td>\n",
       "      <td>1.212665</td>\n",
       "    </tr>\n",
       "    <tr>\n",
       "      <th>17</th>\n",
       "      <td>-0.903021</td>\n",
       "      <td>-0.815218</td>\n",
       "      <td>-1.334397</td>\n",
       "      <td>-1.066428</td>\n",
       "      <td>-0.904171</td>\n",
       "      <td>-1.505536</td>\n",
       "    </tr>\n",
       "  </tbody>\n",
       "</table>\n",
       "</div>"
      ],
      "text/plain": [
       "         CYL     PUISS      LONG      LARG     POIDS     V.MAX\n",
       "0  -0.753261 -0.275375 -1.831969 -1.066428 -1.524800  0.553708\n",
       "1  -0.116778  0.019085  1.560566  1.944663  0.227564  0.141859\n",
       "2  -0.903021 -0.815218 -0.429721  0.250924 -0.210527 -0.517099\n",
       "3  -1.095571 -1.256908 -0.972527 -1.066428 -1.086709 -0.599469\n",
       "4  -0.124801  0.657082  0.248786 -0.501848  0.191056  0.553708\n",
       "5  -0.894999 -0.128145 -0.203552  0.439117  0.008518  0.141859\n",
       "6   0.439476 -0.275375  0.701124  0.439117  0.592640 -0.352359\n",
       "7  -0.178287 -1.453215 -0.429721 -0.690042 -0.502588 -1.505536\n",
       "8   2.760767  2.129382  0.836825  1.191890  1.760883  1.789254\n",
       "9  -1.245332 -1.453215 -1.560566 -1.819201 -1.926384 -1.505536\n",
       "10 -0.164915  1.196925 -0.248786 -0.878235 -0.137512  1.377405\n",
       "11  0.444825 -0.128145  0.520189  1.003697  0.592640 -0.022880\n",
       "12  0.979685  1.491385  1.605800  0.439117  2.125959  0.141859\n",
       "13  0.966313  0.657082  0.203552  0.627311  0.008518  0.718447\n",
       "14 -0.507225 -0.226298 -0.113085 -0.125462  0.366293 -1.176057\n",
       "15  0.367270 -0.079068  0.294020 -0.313655  0.118041  0.553708\n",
       "16  0.928873  0.755235  1.153462  1.191890  0.300579  1.212665\n",
       "17 -0.903021 -0.815218 -1.334397 -1.066428 -0.904171 -1.505536"
      ]
     },
     "execution_count": 15,
     "metadata": {},
     "output_type": "execute_result"
    }
   ],
   "source": [
    "scaled_data = centered_data / std_devs\n",
    "scaled_data"
   ]
  },
  {
   "cell_type": "markdown",
   "id": "5155d1e6-5358-4c8a-a90f-cf5826f3837e",
   "metadata": {},
   "source": [
    "### 5- Créer la matrice de données Z à partir du DataFrame contenant les données centrées et réduites"
   ]
  },
  {
   "cell_type": "code",
   "execution_count": 17,
   "id": "445604f9-8d04-4546-88ae-7ca64de2177e",
   "metadata": {},
   "outputs": [
    {
     "data": {
      "text/plain": [
       "array([[-0.75326073, -0.27537465, -1.83196922, -1.06642792, -1.52480049,\n",
       "         0.55370761],\n",
       "       [-0.1167777 ,  0.01908537,  1.56056637,  1.94466269,  0.227564  ,\n",
       "         0.14185897],\n",
       "       [-0.90302144, -0.81521802, -0.42972117,  0.25092422, -0.21052712,\n",
       "        -0.51709884],\n",
       "       [-1.09557092, -1.25690805, -0.97252687, -1.06642792, -1.08670937,\n",
       "        -0.59946857],\n",
       "       [-0.12480059,  0.65708208,  0.24878594, -0.50184844,  0.19105641,\n",
       "         0.55370761],\n",
       "       [-0.89499854, -0.12814464, -0.20355214,  0.43911738,  0.00851844,\n",
       "         0.14185897],\n",
       "       [ 0.43947638, -0.27537465,  0.70112402,  0.43911738,  0.59263994,\n",
       "        -0.35235939],\n",
       "       [-0.17828656, -1.45321473, -0.42972117, -0.6900416 , -0.50258787,\n",
       "        -1.50553557],\n",
       "       [ 2.76076742,  2.12938219,  0.83682544,  1.19189003,  1.76088293,\n",
       "         1.78925352],\n",
       "       [-1.24533164, -1.45321473, -1.56056637, -1.81920058, -1.92638402,\n",
       "        -1.50553557],\n",
       "       [-0.16491507,  1.19692545, -0.24878594, -0.87823476, -0.13751194,\n",
       "         1.37740488],\n",
       "       [ 0.44482497, -0.12814464,  0.52018879,  1.00369687,  0.59263994,\n",
       "        -0.02288048],\n",
       "       [ 0.97968466,  1.49138547,  1.60580018,  0.43911738,  2.12595887,\n",
       "         0.14185897],\n",
       "       [ 0.96631317,  0.65708208,  0.20355214,  0.62731054,  0.00851844,\n",
       "         0.71844706],\n",
       "       [-0.50722527, -0.22629798, -0.11308452, -0.12546211,  0.36629286,\n",
       "        -1.17605666],\n",
       "       [ 0.36727032, -0.07906797,  0.29401975, -0.31365527,  0.11804122,\n",
       "         0.55370761],\n",
       "       [ 0.92887299,  0.75523542,  1.1534621 ,  1.19189003,  0.30057919,\n",
       "         1.21266543],\n",
       "       [-0.90302144, -0.81521802, -1.33439733, -1.06642792, -0.9041714 ,\n",
       "        -1.50553557]])"
      ]
     },
     "execution_count": 17,
     "metadata": {},
     "output_type": "execute_result"
    }
   ],
   "source": [
    "Z = scaled_data.values\n",
    "print(Z)"
   ]
  },
  {
   "cell_type": "markdown",
   "id": "6cc4e486-9f76-4b92-96e7-c00936cf39e9",
   "metadata": {},
   "source": [
    "## V- Effectuer la décomposition en valeurs singulières (SVD):"
   ]
  },
  {
   "cell_type": "code",
   "execution_count": 26,
   "id": "342c4104-beb6-4929-90b6-c1324e9fe8ff",
   "metadata": {},
   "outputs": [],
   "source": [
    "# Effectuer la SVD\n",
    "Us, delta, Vs = np.linalg.svd(Z)"
   ]
  },
  {
   "cell_type": "markdown",
   "id": "29bab4de-adfc-431b-bc5b-886ed6a1717a",
   "metadata": {},
   "source": [
    "## VI-Interpréter les résultats:"
   ]
  },
  {
   "cell_type": "markdown",
   "id": "7348d52e-0944-4777-8b43-0ab942965bf9",
   "metadata": {},
   "source": [
    "### 1- Les valeurs singulières (delta) représentent la variance restituée par chaque axe"
   ]
  },
  {
   "cell_type": "code",
   "execution_count": 33,
   "id": "b7409624-288d-472c-990b-9698eb0002d1",
   "metadata": {},
   "outputs": [
    {
     "data": {
      "text/plain": [
       "18"
      ]
     },
     "execution_count": 33,
     "metadata": {},
     "output_type": "execute_result"
    }
   ],
   "source": [
    "n = df.shape[0]  # Nombre de lignes dans le DataFrame\n",
    "n"
   ]
  },
  {
   "cell_type": "code",
   "execution_count": 34,
   "id": "057f4551-30b0-418b-b673-ff52df769c83",
   "metadata": {},
   "outputs": [
    {
     "name": "stdout",
     "output_type": "stream",
     "text": [
      "[8.66917453 3.81484717 2.51835727 1.90700695 1.25603368 0.85786633]\n",
      "[4.17525483 0.80850327 0.35234018 0.20203753 0.08764559 0.04088526]\n"
     ]
    }
   ],
   "source": [
    "print(delta)  # Afficher les valeurs singulières\n",
    "print((delta**2) / n)  # Calculer les variances restituées par les axes"
   ]
  },
  {
   "cell_type": "markdown",
   "id": "9ac49632-3afe-4893-833a-df7aa96f26d1",
   "metadata": {},
   "source": [
    "### 2-Les matrices Us et Vs contiennent les vecteurs singuliers gauche et droit, respectivement. Elles peuvent être utilisées pour calculer les coordonnées factorielles des individus et des variables."
   ]
  },
  {
   "cell_type": "code",
   "execution_count": 36,
   "id": "87868e4f-4f8d-4697-a5cc-8a305c71521e",
   "metadata": {},
   "outputs": [
    {
     "name": "stdout",
     "output_type": "stream",
     "text": [
      "[[-2.39776014e-01 -4.54898964e-01 -2.20679667e-01 -1.02903716e-01\n",
      "   2.33167573e-01 -6.10836321e-02  3.09320468e-01  2.05229523e-01\n",
      "   1.68064146e-01 -2.34085031e-01 -2.04159172e-01  1.40463939e-01\n",
      "   3.95358988e-01 -3.49834904e-02 -3.93461452e-02  2.41500697e-01\n",
      "   1.73380329e-01 -2.97443451e-01]\n",
      " [ 1.75041462e-01  3.89010707e-01 -5.07558644e-01  1.07706359e-01\n",
      "  -1.14910727e-01  3.70708800e-01  9.00069412e-02  2.52945639e-01\n",
      "   4.15412390e-01 -5.82343935e-02 -1.13344927e-01  9.80924454e-02\n",
      "  -3.67023008e-02 -6.16059652e-02 -1.64282461e-02  1.86511819e-01\n",
      "  -2.91114820e-01  5.22288034e-02]\n",
      " [-1.25484491e-01  1.71828955e-01 -1.76195762e-01  8.54234098e-02\n",
      "   2.90428694e-01 -3.07909582e-01 -1.60090566e-01 -1.59533442e-01\n",
      "   4.31207959e-01  1.17699608e-01  4.68094776e-01 -2.49283009e-01\n",
      "   3.92400010e-04  2.38261304e-01 -2.89987077e-01  1.58675754e-01\n",
      "   1.74571429e-01 -9.26648578e-02]\n",
      " [-2.88519667e-01 -2.87570330e-02 -5.73325680e-02  8.83823928e-03\n",
      "  -1.75522123e-01 -2.98476422e-01 -8.76367739e-02 -1.66573379e-01\n",
      "   4.51240076e-01 -2.04602737e-01 -3.06720387e-01  2.05261738e-01\n",
      "  -6.36637300e-02  2.56655193e-01  2.21791413e-01 -4.45224372e-01\n",
      "  -1.87839261e-02  2.40536033e-01]\n",
      " [ 4.79631036e-02 -1.77194497e-01  7.45882699e-02  3.19908481e-01\n",
      "  -2.03880783e-01  4.20880135e-02  7.68573138e-02  1.94514477e-01\n",
      "   3.92234597e-02  1.46646311e-01 -2.73690374e-01  1.11175235e-01\n",
      "  -5.51273335e-01  2.71092199e-01 -3.41644122e-01  1.20516352e-01\n",
      "   3.59011882e-01 -1.53223457e-01]\n",
      " [-3.41054208e-02  4.99685428e-02 -2.60790093e-01  2.83311969e-01\n",
      "   3.44374354e-01 -2.26662021e-01  8.72311429e-02  3.34941770e-01\n",
      "  -2.25937549e-01  5.07047647e-01 -2.28713927e-01 -1.32422544e-01\n",
      "   1.44426627e-01  9.54567968e-02  1.74055075e-01 -1.45156167e-01\n",
      "   3.46615527e-02  3.12680914e-01]\n",
      " [ 7.66692405e-02  2.37694499e-01  9.91071351e-02 -1.03518787e-01\n",
      "  -1.61439107e-01 -1.74334736e-01  8.93076033e-01 -1.33745181e-01\n",
      "   2.54503084e-02  4.70851144e-02  1.34989147e-01 -8.00810448e-02\n",
      "  -2.24318776e-02  7.48221721e-02 -1.01039130e-02 -8.54570210e-02\n",
      "   4.30405731e-02  4.79398649e-02]\n",
      " [-2.18428456e-01  2.49767341e-01  2.39091792e-01 -3.21215460e-01\n",
      "  -2.26829341e-01 -1.23073773e-01 -1.08731611e-01  7.60768330e-01\n",
      "   2.88988001e-02 -7.64155433e-02  1.81581005e-01 -6.17772880e-02\n",
      "   5.42077660e-02  6.78034003e-02 -1.38207352e-02 -9.31084494e-02\n",
      "   1.04945381e-01 -3.87198618e-02]\n",
      " [ 4.94336765e-01 -2.70958598e-01  2.29040554e-01 -4.31763946e-01\n",
      "   2.90061705e-01 -4.98410765e-02  9.48786229e-04  1.18853453e-01\n",
      "   4.40151369e-01  2.48134523e-01 -1.00900592e-01 -3.57818208e-02\n",
      "  -1.94270080e-01 -1.36615029e-01  5.89393123e-02 -4.28959156e-02\n",
      "  -5.07889096e-02  1.07344159e-01]\n",
      " [-4.46811198e-01 -6.01818128e-02  1.16978110e-01 -1.35108093e-01\n",
      "  -2.15427203e-01  3.72582014e-01  1.55505657e-02 -1.51317357e-01\n",
      "   2.05191065e-01  6.79214434e-01  2.62295296e-02  1.02818160e-01\n",
      "   1.53546530e-01 -3.92248264e-02  3.57501454e-02 -1.72400230e-03\n",
      "  -2.47899988e-02 -1.21362816e-01]\n",
      " [ 4.90620304e-02 -4.87192660e-01 -9.62512358e-03  3.86746550e-01\n",
      "  -1.30065323e-01  6.14460873e-02  1.04019809e-01  2.16429914e-01\n",
      "   1.04730832e-01 -1.90664502e-02  6.13364161e-01  1.82592445e-01\n",
      "  -4.70692986e-02 -1.57221034e-02  1.77403084e-01 -1.16551636e-01\n",
      "  -1.79397101e-01  1.77837628e-01]\n",
      " [ 1.14138735e-01  2.14424612e-01 -8.35891291e-02 -1.54628420e-01\n",
      "   1.43043113e-01 -2.09454829e-01 -4.52672728e-02 -3.18554219e-02\n",
      "  -1.54083757e-01  1.44169883e-01  1.61682069e-01  8.69741639e-01\n",
      "  -5.25608553e-04  1.07297905e-02 -7.24690508e-02  4.55535568e-02\n",
      "   8.70360529e-02 -2.37666628e-02]\n",
      " [ 3.29698785e-01  1.42448701e-01  4.80050708e-01  3.93504277e-01\n",
      "  -4.21000532e-02  6.48694323e-02 -4.96887411e-02  1.34240986e-02\n",
      "   2.06870305e-01 -7.20924624e-03 -1.25295590e-01  1.00377349e-01\n",
      "   5.96248356e-01  1.64393616e-01 -1.48476717e-01 -1.82562062e-02\n",
      "   5.94116052e-02  3.94033481e-03]\n",
      " [ 1.47399737e-01 -1.23940703e-01 -1.09062616e-01 -2.96706939e-01\n",
      "   5.16343180e-02  2.86712478e-01 -6.11644786e-03 -1.91123650e-02\n",
      "  -1.76301721e-01 -2.13648674e-02  6.72192927e-02 -2.37952732e-02\n",
      "   8.39640503e-02  8.42641438e-01  7.88950166e-02  1.74911164e-02\n",
      "  -1.31172588e-01  1.59671118e-02]\n",
      " [-7.74744497e-02  2.28692878e-01  2.42500036e-01  1.82305349e-01\n",
      "   2.91761007e-01  1.37675821e-01  4.10710548e-02  7.59051243e-03\n",
      "   1.01353540e-01 -8.02915311e-02  3.47468876e-02  4.21860949e-02\n",
      "  -2.09394262e-01  8.16518924e-02  7.21490977e-01  2.14637859e-01\n",
      "   2.04620844e-01 -2.55195228e-01]\n",
      " [ 4.32384467e-02 -9.07373662e-02  2.91672128e-02 -5.24383448e-02\n",
      "  -4.07786626e-01 -3.83842391e-01 -8.56176425e-02 -5.24186948e-02\n",
      "   4.00661800e-03  1.05315406e-01 -7.41885585e-02 -2.73517289e-02\n",
      "   7.12196674e-02  6.47378223e-02  2.21335360e-01  7.10151375e-01\n",
      "  -9.23688306e-02  2.72276800e-01]\n",
      " [ 2.56685886e-01 -2.65816068e-02 -3.07321732e-01 -1.20444483e-01\n",
      "  -2.61876011e-01  1.77494594e-01 -8.51935012e-02 -7.55984979e-02\n",
      "   1.99109654e-02  4.49579971e-03  1.16460979e-01 -6.59357773e-02\n",
      "   1.72153522e-01 -1.02758184e-01  1.88694401e-01 -1.14562203e-01\n",
      "   7.55875905e-01  1.81090938e-01]\n",
      " [-3.03634494e-01  3.66070046e-02  2.21631517e-01 -4.90164443e-02\n",
      "   2.95366533e-01  3.21101223e-01  8.99623718e-02 -8.82736907e-03\n",
      "   2.12214955e-02 -1.93185134e-01  1.24162353e-02  8.41945044e-02\n",
      "  -7.37406440e-02 -2.21405322e-02 -2.06638915e-01  2.24211673e-01\n",
      "   1.61145003e-01  6.97527423e-01]]\n",
      "[[ 0.42493602 -0.12419108  0.35361252 -0.80778648 -0.15158003  0.05889517]\n",
      " [ 0.42179441 -0.41577389  0.18492049  0.35779199  0.29373465  0.63303302]\n",
      " [ 0.42145993  0.41181773 -0.06763394  0.27975231 -0.73056903  0.19029153]\n",
      " [ 0.38692224  0.446087   -0.60486812 -0.21156941  0.47819008  0.10956624]\n",
      " [ 0.43051198  0.24267581  0.48439601  0.30171136  0.30455842 -0.5808122 ]\n",
      " [ 0.35894427 -0.6198626  -0.48547226  0.0735743  -0.18865511 -0.45852167]]\n"
     ]
    }
   ],
   "source": [
    "print(Us)  # Matrice des vecteurs singuliers gauche\n",
    "print(np.transpose(Vs))  # Matrice des vecteurs singuliers droit (transposée)"
   ]
  },
  {
   "cell_type": "markdown",
   "id": "68b714db-bb84-4dc1-8566-d1b6367da1be",
   "metadata": {},
   "source": [
    "## VII - Calculer les coordonnées factorielles des individus:"
   ]
  },
  {
   "cell_type": "markdown",
   "id": "226a2f4f-9aca-4098-9c4c-1130003be9b1",
   "metadata": {},
   "source": [
    "### 1- Utilisez la formule 𝐹𝑖𝑘 = 𝛿𝑘 × 𝑢𝑖𝑘 pour calculer les coordonnées factorielles des individus pour chaque axe."
   ]
  },
  {
   "cell_type": "code",
   "execution_count": 37,
   "id": "b48ee547-f92a-4804-80b8-74df9db2d374",
   "metadata": {},
   "outputs": [
    {
     "name": "stdout",
     "output_type": "stream",
     "text": [
      "                      F_1\n",
      "Modele                   \n",
      "Alfasud TI      -2.078660\n",
      "Audi 100         1.517465\n",
      "Simca 1300      -1.087847\n",
      "Citroen GS Club -2.501227\n",
      "Fiat 132         0.415801\n",
      "Lancia Beta     -0.295666\n",
      "Peugeot 504      0.664659\n",
      "Renault 16 TL   -1.893594\n",
      "Renault 30       4.285492\n",
      "Toyota Corolla  -3.873484\n",
      "Alfetta 1.66     0.425327\n",
      "Princess 1800    0.989489\n",
      "Datsun 200L      2.858216\n",
      "Taunus 2000      1.277834\n",
      "Rancho          -0.671640\n",
      "Mazda 9295       0.374842\n",
      "Opel Rekord      2.225255\n",
      "Lada 1300       -2.632260\n"
     ]
    }
   ],
   "source": [
    "# Coordonnées factorielles - 1er facteur\n",
    "coordinates = pd.DataFrame(Us[:,0] * delta[0], columns=['F_1'], index=df['Modele'])\n",
    "print(coordinates)"
   ]
  },
  {
   "cell_type": "markdown",
   "id": "543df8da-430d-4803-bcd4-042e2ee01f9c",
   "metadata": {},
   "source": [
    "## VIII- Analyser et interpréter les résultats:"
   ]
  },
  {
   "cell_type": "markdown",
   "id": "25dbfa3a-8119-4ca7-adb8-35ba77c38899",
   "metadata": {},
   "source": [
    "### 1- Pour analyser les coordonnées factorielles des individus :"
   ]
  },
  {
   "cell_type": "code",
   "execution_count": 46,
   "id": "11864495-6f2c-4fa2-9c82-006896ddc820",
   "metadata": {},
   "outputs": [
    {
     "name": "stdout",
     "output_type": "stream",
     "text": [
      "                      F_1\n",
      "Modele                   \n",
      "Alfasud TI      -2.078660\n",
      "Audi 100         1.517465\n",
      "Simca 1300      -1.087847\n",
      "Citroen GS Club -2.501227\n",
      "Fiat 132         0.415801\n",
      "Lancia Beta     -0.295666\n",
      "Peugeot 504      0.664659\n",
      "Renault 16 TL   -1.893594\n",
      "Renault 30       4.285492\n",
      "Toyota Corolla  -3.873484\n",
      "Alfetta 1.66     0.425327\n",
      "Princess 1800    0.989489\n",
      "Datsun 200L      2.858216\n",
      "Taunus 2000      1.277834\n",
      "Rancho          -0.671640\n",
      "Mazda 9295       0.374842\n",
      "Opel Rekord      2.225255\n",
      "Lada 1300       -2.632260\n"
     ]
    },
    {
     "data": {
      "image/png": "[encoded data removed]",
      "text/plain": [
       "<Figure size 640x480 with 1 Axes>"
      ]
     },
     "metadata": {},
     "output_type": "display_data"
    }
   ],
   "source": [
    "# Afficher les coordonnées factorielles des individus pour le premier axe\n",
    "print(coordinates)\n",
    "\n",
    "# Visualisation : Créer un graphique de dispersion des individus dans l'espace factoriel\n",
    "import matplotlib.pyplot as plt\n",
    "plt.scatter(coordinates['F_1'], np.zeros_like(coordinates['F_1']))\n",
    "plt.xlabel('Axe 1')\n",
    "plt.show()"
   ]
  },
  {
   "cell_type": "markdown",
   "id": "c242856c-0042-4055-8bf4-5bf9afc4fcf2",
   "metadata": {},
   "source": [
    "### 2- Pour analyser les vecteurs singuliers droit (Vs) :"
   ]
  },
  {
   "cell_type": "code",
   "execution_count": 48,
   "id": "3b2e56e7-d98f-47eb-9d6e-165dfc37aa50",
   "metadata": {},
   "outputs": [
    {
     "name": "stdout",
     "output_type": "stream",
     "text": [
      "[[ 0.42493602 -0.12419108  0.35361252 -0.80778648 -0.15158003  0.05889517]\n",
      " [ 0.42179441 -0.41577389  0.18492049  0.35779199  0.29373465  0.63303302]\n",
      " [ 0.42145993  0.41181773 -0.06763394  0.27975231 -0.73056903  0.19029153]\n",
      " [ 0.38692224  0.446087   -0.60486812 -0.21156941  0.47819008  0.10956624]\n",
      " [ 0.43051198  0.24267581  0.48439601  0.30171136  0.30455842 -0.5808122 ]\n",
      " [ 0.35894427 -0.6198626  -0.48547226  0.0735743  -0.18865511 -0.45852167]]\n"
     ]
    }
   ],
   "source": [
    "# Afficher les vecteurs singuliers droit\n",
    "print(np.transpose(Vs))"
   ]
  }
 ],
 "metadata": {
  "kernelspec": {
   "display_name": "Python 3 (ipykernel)",
   "language": "python",
   "name": "python3"
  },
  "language_info": {
   "codemirror_mode": {
    "name": "ipython",
    "version": 3
   },
   "file_extension": ".py",
   "mimetype": "text/x-python",
   "name": "python",
   "nbconvert_exporter": "python",
   "pygments_lexer": "ipython3",
   "version": "3.12.2"
  }
 },
 "nbformat": 4,
 "nbformat_minor": 5
}
